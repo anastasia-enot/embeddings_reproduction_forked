{
 "cells": [
  {
   "cell_type": "markdown",
   "metadata": {},
   "source": [
    "Infer vectors for each task using each docvec model. "
   ]
  },
  {
   "cell_type": "code",
   "execution_count": 1,
   "metadata": {},
   "outputs": [],
   "source": [
    "import os\n",
    "import pickle\n",
    "\n",
    "import gensim\n",
    "import numpy as np\n",
    "import pandas as pd\n",
    "from gensim.models.doc2vec import Doc2Vec\n",
    "\n",
    "from embeddings_reproduction import embedding_tools"
   ]
  },
  {
   "cell_type": "code",
   "execution_count": null,
   "metadata": {},
   "outputs": [],
   "source": [
    "# assert gensim.__version__ == '1.0.1'\n",
    "# assert np.__version__ == '1.13.1'\n",
    "# assert pd.__version__ == '0.20.3'"
   ]
  },
  {
   "cell_type": "code",
   "execution_count": null,
   "metadata": {},
   "outputs": [],
   "source": [
    "def infer_vectors(data, model, k, dest_file, overlap=False, method=None):\n",
    "    df = pd.read_csv(data)\n",
    "    seqs = embedding_tools.get_seqs(df)\n",
    "    if method is not None:\n",
    "        seqs = embedding_tools.randomize_seqs(seqs, method=method)\n",
    "    embeds = embedding_tools.get_embeddings_new(model, seqs, k=k,\n",
    "                                                overlap=overlap)\n",
    "    embeds = pd.DataFrame(embeds, index=df.index)\n",
    "    terms = list(range(embeds.shape[1]))\n",
    "    name = model.split('/')[-1]\n",
    "    with open(dest_file + 'X_' + name, 'wb') as f:\n",
    "        pickle.dump((embeds, terms), f)"
   ]
  },
  {
   "cell_type": "code",
   "execution_count": null,
   "metadata": {},
   "outputs": [],
   "source": [
    "models = os.listdir('../outputs/docvec_models/')\n",
    "models = [m for m in models if m[-3:] == 'pkl']"
   ]
  },
  {
   "cell_type": "code",
   "execution_count": null,
   "metadata": {},
   "outputs": [],
   "source": [
    "datasets = ['localization', 'T50', 'enantioselectivity', 'absorption']"
   ]
  },
  {
   "cell_type": "code",
   "execution_count": null,
   "metadata": {},
   "outputs": [],
   "source": [
    "for s in datasets:\n",
    "    dest = '../outputs/' + s + '_embeddings/'\n",
    "    Xs = os.listdir('/'.join(s.split('/')[:-1]) + dest)\n",
    "    for model in models:\n",
    "        if 'X_' + model in Xs:\n",
    "            continue\n",
    "        print('Model ' + model + ' for dataset ' + s + ':')\n",
    "        k = int(model[-7])\n",
    "        print('Inferring...')\n",
    "        infer_vectors('../inputs/' + s + '.txt', '../outputs/docvec_models/' + model, k, dest)"
   ]
  }
 ],
 "metadata": {
  "kernelspec": {
   "display_name": "Python 3",
   "language": "python",
   "name": "python3"
  },
  "language_info": {
   "codemirror_mode": {
    "name": "ipython",
    "version": 3
   },
   "file_extension": ".py",
   "mimetype": "text/x-python",
   "name": "python",
   "nbconvert_exporter": "python",
   "pygments_lexer": "ipython3",
   "version": "3.7.0"
  }
 },
 "nbformat": 4,
 "nbformat_minor": 2
}
