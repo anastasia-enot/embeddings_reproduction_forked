{
 "cells": [
  {
   "cell_type": "code",
   "execution_count": null,
   "metadata": {},
   "outputs": [],
   "source": [
    "import multiprocessing\n",
    "import os\n",
    "import pickle\n",
    "import random\n",
    "\n",
    "import gensim\n",
    "import numpy as np\n",
    "import pandas as pd\n",
    "from gensim.models.doc2vec import Doc2Vec, TaggedDocument\n",
    "\n",
    "from embeddings_reproduction import embedding_tools"
   ]
  },
  {
   "cell_type": "code",
   "execution_count": null,
   "metadata": {},
   "outputs": [],
   "source": [
    "# assert gensim.__version__ == '1.0.1'\n",
    "# assert np.__version__ == '1.13.1'\n",
    "# assert pd.__version__ == '0.20.3'"
   ]
  },
  {
   "cell_type": "code",
   "execution_count": null,
   "metadata": {},
   "outputs": [],
   "source": [
    "sequence_dict = {}\n",
    "sequence_dict['small'] = pd.read_csv('../inputs/small_uniprot.txt')\n",
    "sequence_dict['original'] = pd.read_csv('../inputs/uniprot-reviewed-lim_sequences.txt', comment='#')\n",
    "sequence_dict['scrambled'] = pd.read_csv('../inputs/r1.txt')\n",
    "sequence_dict['random'] = pd.read_csv('../inputs/r2.txt')\n",
    "sequence_dict['uniform'] = pd.read_csv('../inputs/r3.txt')"
   ]
  },
  {
   "cell_type": "code",
   "execution_count": null,
   "metadata": {},
   "outputs": [],
   "source": [
    "sequence_dict['ChR_data'] = pd.read_csv('../inputs/localization.txt')\n",
    "sequence_dict['P450_data'] = pd.read_csv('../inputs/T50.txt')\n",
    "sequence_dict['absorption_data'] = pd.read_csv('../inputs/absorption.txt')\n",
    "sequence_dict['enan_data'] = pd.read_csv('../inputs/enantioselectivity.txt')"
   ]
  },
  {
   "cell_type": "code",
   "execution_count": null,
   "metadata": {},
   "outputs": [],
   "source": [
    "def train(X, k, window):\n",
    "    name_list = [X, str(k), str(window)]\n",
    "    if os.path.isfile('../outputs/docvec_models/' + '_'.join(name_list) + '.pkl'):\n",
    "        return\n",
    "    print('X\\t\\tk\\twindow')\n",
    "    print(name_list[0] + '\\t\\t' + '\\t'.join(name_list[1:]))\n",
    "    kmer_hypers = {'k':k, \n",
    "                   'overlap':False,\n",
    "                   'merge':False}\n",
    "    model_hypers = {'size': 64,\n",
    "                    'min_count': 0,\n",
    "                    'iter': 25,\n",
    "                    'window':window,\n",
    "                    'workers': 4}\n",
    "    documents = embedding_tools.Corpus(sequence_dict[X], kmer_hypers)\n",
    "    model = Doc2Vec(**model_hypers)\n",
    "    model.build_vocab(documents)\n",
    "    model.train(documents)\n",
    "    model.save('../outputs/docvec_models/' + '_'.join(name_list) + '.pkl')"
   ]
  },
  {
   "cell_type": "code",
   "execution_count": null,
   "metadata": {},
   "outputs": [],
   "source": [
    "for X in sequence_dict.keys():\n",
    "    for k in range(1, 6):\n",
    "        for window in range(1, 8):\n",
    "            train(X, k, window)"
   ]
  }
 ],
 "metadata": {
  "kernelspec": {
   "display_name": "Python 3",
   "language": "python",
   "name": "python3"
  },
  "language_info": {
   "codemirror_mode": {
    "name": "ipython",
    "version": 3
   },
   "file_extension": ".py",
   "mimetype": "text/x-python",
   "name": "python",
   "nbconvert_exporter": "python",
   "pygments_lexer": "ipython3",
   "version": "3.7.0"
  }
 },
 "nbformat": 4,
 "nbformat_minor": 2
}
