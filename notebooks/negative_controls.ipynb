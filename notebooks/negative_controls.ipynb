{
 "cells": [
  {
   "cell_type": "code",
   "execution_count": null,
   "metadata": {},
   "outputs": [],
   "source": [
    "import os\n",
    "import pickle\n",
    "\n",
    "import gensim\n",
    "import matplotlib.pyplot as plt\n",
    "import numpy as np\n",
    "import pandas as pd\n",
    "import seaborn as sns\n",
    "from gensim.models.doc2vec import Doc2Vec\n",
    "from scipy import stats\n",
    "from sklearn import metrics\n",
    "\n",
    "from embeddings_reproduction import embedding_tools\n",
    "from embeddings_reproduction import gpm\n",
    "from embeddings_reproduction import gpk"
   ]
  },
  {
   "cell_type": "code",
   "execution_count": null,
   "metadata": {},
   "outputs": [],
   "source": [
    "%matplotlib inline"
   ]
  },
  {
   "cell_type": "code",
   "execution_count": null,
   "metadata": {},
   "outputs": [],
   "source": [
    "sns.set_style('white')\n",
    "sns.set_context('paper')"
   ]
  },
  {
   "cell_type": "code",
   "execution_count": null,
   "metadata": {},
   "outputs": [],
   "source": [
    "# Plot adjustments:\n",
    "plt.rcParams.update({'ytick.labelsize': 12})\n",
    "plt.rcParams.update({'xtick.labelsize': 12})\n",
    "plt.rcParams.update({'axes.labelsize': 12})\n",
    "plt.rcParams.update({'legend.fontsize': 30})\n",
    "plt.rcParams.update({'axes.titlesize': 16})"
   ]
  },
  {
   "cell_type": "code",
   "execution_count": 2,
   "metadata": {},
   "outputs": [],
   "source": [
    "# assert gensim.__version__ == '1.0.1'\n",
    "# assert np.__version__ == '1.13.1'\n",
    "# assert pd.__version__ == '0.20.3'"
   ]
  },
  {
   "cell_type": "code",
   "execution_count": 3,
   "metadata": {},
   "outputs": [],
   "source": [
    "dfs = {}\n",
    "dfs['log_GFP'] = pd.read_csv('../inputs/localization.txt')\n",
    "dfs['peak'] = pd.read_csv('../inputs/absorption.txt')\n",
    "dfs['T50'] = pd.read_csv('../inputs/T50.txt')\n",
    "dfs['e-value'] = pd.read_csv('../inputs/enantioselectivity.txt')\n",
    "\n",
    "dirs = {}\n",
    "dirs['peak'] = '../outputs/absorption_scrambled_embeddings/'\n",
    "dirs['T50'] = '../outputs/T50_scrambled_embeddings/'\n",
    "dirs['e-value'] = '../outputs/enantioselectivity_scrambled_embeddings/'\n",
    "dirs['log_GFP'] = '../outputs/localization_scrambled_embeddings/'\n",
    "\n",
    "tasks = ('log_GFP', 'peak', 'T50', 'e-value')\n",
    "hypers = [('scrambled', 3, 5), ('uniform', 4, 1), ('original', 3, 7), ('random', 3, 7)]\n",
    "model_dir = '../outputs/docvec_models/'"
   ]
  },
  {
   "cell_type": "markdown",
   "metadata": {},
   "source": [
    "## Infer from scrambled training sequences"
   ]
  },
  {
   "cell_type": "code",
   "execution_count": 3,
   "metadata": {},
   "outputs": [],
   "source": [
    "def infer_vectors(df, model, k, dest, overlap=False, method=None):       \n",
    "    seqs = embedding_tools.get_seqs(df)\n",
    "    if method is not None:\n",
    "        seqs = embedding_tools.randomize_seqs(seqs, method=method)\n",
    "    embeds = embedding_tools.get_embeddings_new(model, seqs, k=k,\n",
    "                                                overlap=overlap)\n",
    "    embeds = pd.DataFrame(embeds, index=df.name)\n",
    "    terms = list(range(embeds.shape[1]))\n",
    "    name = model.split('/')[-1]\n",
    "    with open(dest + 'X_' + name, 'wb') as f:\n",
    "        pickle.dump((embeds, terms), f)\n",
    "        \n",
    "models = os.listdir(model_dir + 'new_models/')\n",
    "models = [m for m in models if m[-3:] == 'pkl']\n",
    "\n",
    "for i, t in enumerate(tasks):\n",
    "    Xs = os.listdir(dirs[t] + dest)\n",
    "    name = '_'.join([str(h) for h in hypers[i]])\n",
    "    for model in models:\n",
    "        if name not in model:\n",
    "            continue\n",
    "        if 'X_' + model in Xs:\n",
    "            continue\n",
    "        print('Model ' + model + ' for dataset ' + t + ':')\n",
    "        k = int(model.split('_')[1])\n",
    "        print('Inferring...')\n",
    "        %time infer_vectors(dfs[t], model_dir + model, k, dirs[t], method=0)\n",
    "        print('Success!')"
   ]
  },
  {
   "cell_type": "code",
   "execution_count": 7,
   "metadata": {},
   "outputs": [],
   "source": [
    "def select_X_and_Y(df, all_X, y_column):\n",
    "    not_dropped = ~pd.isnull(df[y_column])\n",
    "    not_dropped = pd.Series(not_dropped, index=df.index)\n",
    "    Ys = df[not_dropped][y_column]\n",
    "    Ys.index = df[not_dropped]['name']\n",
    "    Xs = all_X.loc[Ys.index]\n",
    "    return Xs, Ys\n",
    "\n",
    "def score(Y, pred_Y, pred_var):\n",
    "    r1 = stats.rankdata(Y)\n",
    "    r2 = stats.rankdata(pred_Y)\n",
    "    scores = {}\n",
    "    scores['kendalltau'] = stats.kendalltau(r1, r2).correlation\n",
    "    scores['R2'] = metrics.r2_score(Y, pred_Y)\n",
    "    scores['mae'] = metrics.mean_absolute_error(Y, pred_Y)\n",
    "    scores['SE'] = metrics.mean_squared_error(Y, pred_Y)\n",
    "    scores['R'] = np.corrcoef(Y, pred_Y)[0, 1]\n",
    "    log_ps = -0.5 * np.log(pred_var) - (pred_Y - Y)**2 / 2 / pred_var\n",
    "    log_ps -= 0.5 * np.log(2 * np.pi)\n",
    "    scores['log_loss'] = -np.sum(log_ps)\n",
    "    return scores\n",
    "\n",
    "def evaluate(df_train, df_test, X, task, X_name, guesses=None, kernel='matern'):\n",
    "    X_train, y_train = select_X_and_Y(df_train, X, task)\n",
    "    X_test, y_test = select_X_and_Y(df_test, X, task)\n",
    "    n_train, d = X_train.shape\n",
    "    n_test, d = X_test.shape\n",
    "    if kernel == 'matern':\n",
    "        k = gpk.MaternKernel('5/2')\n",
    "    if kernel == 'cubic':\n",
    "        k = gpk.PolynomialKernel(3)\n",
    "    clf = gpm.GPRegressor(k, guesses=guesses)\n",
    "    clf.fit(X_train, y_train)\n",
    "    print(X_name)\n",
    "    print(clf.hypers)\n",
    "    mu, var = clf.predict(X_test)\n",
    "    met1 = score(y_test, mu, np.diag(var))\n",
    "    met1['task'] = task\n",
    "    met1['X'] = X_name\n",
    "    met1['n_train'] = n_train\n",
    "    met1['n_test'] = n_test\n",
    "    met1['kernel'] = kernel\n",
    "    met1 = pd.DataFrame(met1, index=[0])\n",
    "    return met1, mu"
   ]
  },
  {
   "cell_type": "code",
   "execution_count": 14,
   "metadata": {},
   "outputs": [
    {
     "name": "stdout",
     "output_type": "stream",
     "text": [
      "log_GFP\n",
      "X_scrambled_3_5\n",
      "[ 0.92093774  2.86425647]\n",
      "peak\n",
      "X_uniform_4_1\n",
      "[   1.015901   336.4147892]\n",
      "T50\n",
      "X_original_3_7\n",
      "[ 0.32359132  0.88447538]\n",
      "e-value\n",
      "X_random_3_7\n",
      "[   1.00734238  241.81086924]\n"
     ]
    },
    {
     "data": {
      "text/html": [
       "<div>\n",
       "<style>\n",
       "    .dataframe thead tr:only-child th {\n",
       "        text-align: right;\n",
       "    }\n",
       "\n",
       "    .dataframe thead th {\n",
       "        text-align: left;\n",
       "    }\n",
       "\n",
       "    .dataframe tbody tr th {\n",
       "        vertical-align: top;\n",
       "    }\n",
       "</style>\n",
       "<table border=\"1\" class=\"dataframe\">\n",
       "  <thead>\n",
       "    <tr style=\"text-align: right;\">\n",
       "      <th></th>\n",
       "      <th>R</th>\n",
       "      <th>R2</th>\n",
       "      <th>SE</th>\n",
       "      <th>X</th>\n",
       "      <th>kendalltau</th>\n",
       "      <th>kernel</th>\n",
       "      <th>log_loss</th>\n",
       "      <th>mae</th>\n",
       "      <th>n_test</th>\n",
       "      <th>n_train</th>\n",
       "      <th>task</th>\n",
       "    </tr>\n",
       "  </thead>\n",
       "  <tbody>\n",
       "    <tr>\n",
       "      <th>0</th>\n",
       "      <td>0.261559</td>\n",
       "      <td>-0.067078</td>\n",
       "      <td>1.842776</td>\n",
       "      <td>X_scrambled_3_5</td>\n",
       "      <td>0.159091</td>\n",
       "      <td>matern</td>\n",
       "      <td>57.374260</td>\n",
       "      <td>1.121766</td>\n",
       "      <td>33</td>\n",
       "      <td>215</td>\n",
       "      <td>log_GFP</td>\n",
       "    </tr>\n",
       "    <tr>\n",
       "      <th>1</th>\n",
       "      <td>0.082892</td>\n",
       "      <td>-0.370402</td>\n",
       "      <td>4129.578977</td>\n",
       "      <td>X_uniform_4_1</td>\n",
       "      <td>-0.029588</td>\n",
       "      <td>matern</td>\n",
       "      <td>162.062746</td>\n",
       "      <td>61.436345</td>\n",
       "      <td>19</td>\n",
       "      <td>62</td>\n",
       "      <td>peak</td>\n",
       "    </tr>\n",
       "    <tr>\n",
       "      <th>2</th>\n",
       "      <td>0.535205</td>\n",
       "      <td>-0.074448</td>\n",
       "      <td>35.126059</td>\n",
       "      <td>X_original_3_7</td>\n",
       "      <td>0.311770</td>\n",
       "      <td>matern</td>\n",
       "      <td>61.755192</td>\n",
       "      <td>4.485086</td>\n",
       "      <td>19</td>\n",
       "      <td>242</td>\n",
       "      <td>T50</td>\n",
       "    </tr>\n",
       "    <tr>\n",
       "      <th>3</th>\n",
       "      <td>0.279247</td>\n",
       "      <td>-22.199225</td>\n",
       "      <td>1908.926370</td>\n",
       "      <td>X_random_3_7</td>\n",
       "      <td>0.266215</td>\n",
       "      <td>matern</td>\n",
       "      <td>84.720237</td>\n",
       "      <td>42.739284</td>\n",
       "      <td>16</td>\n",
       "      <td>136</td>\n",
       "      <td>e-value</td>\n",
       "    </tr>\n",
       "  </tbody>\n",
       "</table>\n",
       "</div>"
      ],
      "text/plain": [
       "          R         R2           SE                X  kendalltau  kernel  \\\n",
       "0  0.261559  -0.067078     1.842776  X_scrambled_3_5    0.159091  matern   \n",
       "1  0.082892  -0.370402  4129.578977    X_uniform_4_1   -0.029588  matern   \n",
       "2  0.535205  -0.074448    35.126059   X_original_3_7    0.311770  matern   \n",
       "3  0.279247 -22.199225  1908.926370     X_random_3_7    0.266215  matern   \n",
       "\n",
       "     log_loss        mae  n_test  n_train     task  \n",
       "0   57.374260   1.121766      33      215  log_GFP  \n",
       "1  162.062746  61.436345      19       62     peak  \n",
       "2   61.755192   4.485086      19      242      T50  \n",
       "3   84.720237  42.739284      16      136  e-value  "
      ]
     },
     "execution_count": 14,
     "metadata": {},
     "output_type": "execute_result"
    },
    {
     "data": {
      "image/png": "[encoded data removed]",
      "text/plain": [
       "<matplotlib.figure.Figure at 0x1a1f06a470>"
      ]
     },
     "metadata": {},
     "output_type": "display_data"
    }
   ],
   "source": [
    "fname = '../outputs/scrambled_test.txt'\n",
    "res = pd.DataFrame(index=[])\n",
    "fig, axs = plt.subplots(1, 4, figsize=(13, 3))\n",
    "\n",
    "for i, t in enumerate(tasks):\n",
    "    print(t)\n",
    "    df = dfs[t]\n",
    "    e_dir = dirs[t]\n",
    "    df_test = df[~df.is_train]\n",
    "    df_train = df[df.is_train]\n",
    "    y_test = df_test.dropna(subset=[t])[t]\n",
    "\n",
    "    # Embedding\n",
    "    Xs = os.listdir(e_dir)\n",
    "    for emb in Xs:\n",
    "        if emb[-3:] != 'pkl':\n",
    "            continue\n",
    "        with open(e_dir + emb, 'rb')  as f:\n",
    "            X = pickle.load(f)\n",
    "        if len(X) == 2:\n",
    "            X = X[0]\n",
    "        evals, mu = evaluate(df_train, df_test, X, t, emb[:-4], guesses=(0.1, 10))\n",
    "        res = pd.concat((res, evals), ignore_index=True)\n",
    "        axs[i].plot(y_test, mu, 'o', alpha=0.8)\n",
    "        axs[i].set_xlabel('actual ' + t)\n",
    "        axs[i].set_ylabel('predicted ' + t)\n",
    "        axs[i].get_yaxis().get_major_formatter().set_useOffset(False)\n",
    "\n",
    "fig.tight_layout()\n",
    "\n",
    "res.to_csv(fname, index=False)\n",
    "res.head()"
   ]
  },
  {
   "cell_type": "markdown",
   "metadata": {},
   "source": [
    "## Scramble the labels"
   ]
  },
  {
   "cell_type": "code",
   "execution_count": 16,
   "metadata": {},
   "outputs": [
    {
     "name": "stderr",
     "output_type": "stream",
     "text": [
      "/Users/kevinyang/anaconda/lib/python3.5/site-packages/ipykernel/__main__.py:22: SettingWithCopyWarning: \n",
      "A value is trying to be set on a copy of a slice from a DataFrame.\n",
      "Try using .loc[row_indexer,col_indexer] = value instead\n",
      "\n",
      "See the caveats in the documentation: http://pandas.pydata.org/pandas-docs/stable/indexing.html#indexing-view-versus-copy\n"
     ]
    },
    {
     "name": "stdout",
     "output_type": "stream",
     "text": [
      "X_scrambled_3_5\n",
      "[   1.0046072   127.07701047]\n",
      "X_uniform_4_1\n",
      "[   1.01609551  182.31881209]\n",
      "X_original_3_7\n",
      "[ 0.97094979  5.37301353]\n",
      "X_random_3_7\n",
      "[   1.00713923  224.87865161]\n"
     ]
    },
    {
     "data": {
      "text/html": [
       "<div>\n",
       "<style>\n",
       "    .dataframe thead tr:only-child th {\n",
       "        text-align: right;\n",
       "    }\n",
       "\n",
       "    .dataframe thead th {\n",
       "        text-align: left;\n",
       "    }\n",
       "\n",
       "    .dataframe tbody tr th {\n",
       "        vertical-align: top;\n",
       "    }\n",
       "</style>\n",
       "<table border=\"1\" class=\"dataframe\">\n",
       "  <thead>\n",
       "    <tr style=\"text-align: right;\">\n",
       "      <th></th>\n",
       "      <th>R</th>\n",
       "      <th>R2</th>\n",
       "      <th>SE</th>\n",
       "      <th>X</th>\n",
       "      <th>kendalltau</th>\n",
       "      <th>kernel</th>\n",
       "      <th>log_loss</th>\n",
       "      <th>mae</th>\n",
       "      <th>n_test</th>\n",
       "      <th>n_train</th>\n",
       "      <th>task</th>\n",
       "    </tr>\n",
       "  </thead>\n",
       "  <tbody>\n",
       "    <tr>\n",
       "      <th>0</th>\n",
       "      <td>0.234866</td>\n",
       "      <td>-0.126551</td>\n",
       "      <td>1.945482</td>\n",
       "      <td>X_scrambled_3_5</td>\n",
       "      <td>0.219697</td>\n",
       "      <td>matern</td>\n",
       "      <td>58.313649</td>\n",
       "      <td>1.160039</td>\n",
       "      <td>33</td>\n",
       "      <td>215</td>\n",
       "      <td>log_GFP</td>\n",
       "    </tr>\n",
       "    <tr>\n",
       "      <th>1</th>\n",
       "      <td>0.332735</td>\n",
       "      <td>-0.370390</td>\n",
       "      <td>4129.544411</td>\n",
       "      <td>X_uniform_4_1</td>\n",
       "      <td>0.230785</td>\n",
       "      <td>matern</td>\n",
       "      <td>162.044695</td>\n",
       "      <td>61.436148</td>\n",
       "      <td>19</td>\n",
       "      <td>62</td>\n",
       "      <td>peak</td>\n",
       "    </tr>\n",
       "    <tr>\n",
       "      <th>2</th>\n",
       "      <td>-0.110954</td>\n",
       "      <td>-0.540572</td>\n",
       "      <td>50.364656</td>\n",
       "      <td>X_original_3_7</td>\n",
       "      <td>-0.052942</td>\n",
       "      <td>matern</td>\n",
       "      <td>65.090355</td>\n",
       "      <td>5.394388</td>\n",
       "      <td>19</td>\n",
       "      <td>242</td>\n",
       "      <td>T50</td>\n",
       "    </tr>\n",
       "    <tr>\n",
       "      <th>3</th>\n",
       "      <td>0.327487</td>\n",
       "      <td>-22.199168</td>\n",
       "      <td>1908.921612</td>\n",
       "      <td>X_random_3_7</td>\n",
       "      <td>0.352090</td>\n",
       "      <td>matern</td>\n",
       "      <td>84.721415</td>\n",
       "      <td>42.739252</td>\n",
       "      <td>16</td>\n",
       "      <td>136</td>\n",
       "      <td>e-value</td>\n",
       "    </tr>\n",
       "  </tbody>\n",
       "</table>\n",
       "</div>"
      ],
      "text/plain": [
       "          R         R2           SE                X  kendalltau  kernel  \\\n",
       "0  0.234866  -0.126551     1.945482  X_scrambled_3_5    0.219697  matern   \n",
       "1  0.332735  -0.370390  4129.544411    X_uniform_4_1    0.230785  matern   \n",
       "2 -0.110954  -0.540572    50.364656   X_original_3_7   -0.052942  matern   \n",
       "3  0.327487 -22.199168  1908.921612     X_random_3_7    0.352090  matern   \n",
       "\n",
       "     log_loss        mae  n_test  n_train     task  \n",
       "0   58.313649   1.160039      33      215  log_GFP  \n",
       "1  162.044695  61.436148      19       62     peak  \n",
       "2   65.090355   5.394388      19      242      T50  \n",
       "3   84.721415  42.739252      16      136  e-value  "
      ]
     },
     "execution_count": 16,
     "metadata": {},
     "output_type": "execute_result"
    },
    {
     "data": {
      "image/png": "[encoded data removed]",
      "text/plain": [
       "<matplotlib.figure.Figure at 0x1a1f248c50>"
      ]
     },
     "metadata": {},
     "output_type": "display_data"
    }
   ],
   "source": [
    "fname = '../outputs/scrambled_label_test.txt'\n",
    "res = pd.DataFrame(index=[])\n",
    "fig, axs = plt.subplots(1, 4, figsize=(13, 3))\n",
    "\n",
    "edirs = {\n",
    "    'peak': '../outputs/absorption_embeddings/',\n",
    "    'T50': '../outputs/T50_embeddings/',\n",
    "    'log_GFP': '../outputs/localization_embeddings/',\n",
    "    'e-value': '../outputs/enantioselectivity_embeddings/'\n",
    "}\n",
    "\n",
    "for i, t in enumerate(tasks):\n",
    "    df = dfs[t]\n",
    "    e_dir = dirs[t]\n",
    "    df_test = df[~df.is_train]\n",
    "    df_train = df[df.is_train]\n",
    "    y_test = df_test.dropna(subset=[t])[t]\n",
    "\n",
    "    y = df_train[t].values\n",
    "    np.random.seed(11)\n",
    "    np.random.shuffle(y)\n",
    "    df_train[t] = y\n",
    "    # Embedding\n",
    "    embedding_name = 'X_' + '_'.join([str(h) for h in hypers[i]]) + '.pkl'\n",
    "    with open(e_dir + embedding_name, 'rb')  as f:\n",
    "        X = pickle.load(f)\n",
    "    if len(X) == 2:\n",
    "        X = X[0]\n",
    "    evals, mu = evaluate(df_train, df_test, X, t, embedding_name[:-4], guesses=(0.1, 10))\n",
    "    res = pd.concat((res, evals), ignore_index=True)\n",
    "    axs[i].plot(y_test, mu, 'o', alpha=0.8)\n",
    "    axs[i].set_xlabel('predicted ' + t)\n",
    "    axs[i].set_ylabel('predicted ' + t)\n",
    "    axs[i].get_yaxis().get_major_formatter().set_useOffset(False)\n",
    "_ = fig.tight_layout()\n",
    "res.to_csv(fname, index=False)\n",
    "res.head()"
   ]
  },
  {
   "cell_type": "markdown",
   "metadata": {},
   "source": [
    "## Data sequences only"
   ]
  },
  {
   "cell_type": "code",
   "execution_count": 17,
   "metadata": {},
   "outputs": [
    {
     "name": "stdout",
     "output_type": "stream",
     "text": [
      "X_ChR_data_5_7\n",
      "[ 0.48780464  0.10627054]\n"
     ]
    },
    {
     "data": {
      "text/html": [
       "<div>\n",
       "<style>\n",
       "    .dataframe thead tr:only-child th {\n",
       "        text-align: right;\n",
       "    }\n",
       "\n",
       "    .dataframe thead th {\n",
       "        text-align: left;\n",
       "    }\n",
       "\n",
       "    .dataframe tbody tr th {\n",
       "        vertical-align: top;\n",
       "    }\n",
       "</style>\n",
       "<table border=\"1\" class=\"dataframe\">\n",
       "  <thead>\n",
       "    <tr style=\"text-align: right;\">\n",
       "      <th></th>\n",
       "      <th>R</th>\n",
       "      <th>R2</th>\n",
       "      <th>SE</th>\n",
       "      <th>X</th>\n",
       "      <th>kendalltau</th>\n",
       "      <th>kernel</th>\n",
       "      <th>log_loss</th>\n",
       "      <th>mae</th>\n",
       "      <th>n_test</th>\n",
       "      <th>n_train</th>\n",
       "      <th>task</th>\n",
       "    </tr>\n",
       "  </thead>\n",
       "  <tbody>\n",
       "    <tr>\n",
       "      <th>0</th>\n",
       "      <td>0.806639</td>\n",
       "      <td>0.469831</td>\n",
       "      <td>0.915568</td>\n",
       "      <td>X_ChR_data_5_7</td>\n",
       "      <td>0.564394</td>\n",
       "      <td>matern</td>\n",
       "      <td>46.643668</td>\n",
       "      <td>0.783974</td>\n",
       "      <td>33</td>\n",
       "      <td>215</td>\n",
       "      <td>log_GFP</td>\n",
       "    </tr>\n",
       "  </tbody>\n",
       "</table>\n",
       "</div>"
      ],
      "text/plain": [
       "          R        R2        SE               X  kendalltau  kernel  \\\n",
       "0  0.806639  0.469831  0.915568  X_ChR_data_5_7    0.564394  matern   \n",
       "\n",
       "    log_loss       mae  n_test  n_train     task  \n",
       "0  46.643668  0.783974      33      215  log_GFP  "
      ]
     },
     "execution_count": 17,
     "metadata": {},
     "output_type": "execute_result"
    },
    {
     "data": {
      "image/png": "[encoded data removed]",
      "text/plain": [
       "<matplotlib.figure.Figure at 0x1a1f46f320>"
      ]
     },
     "metadata": {},
     "output_type": "display_data"
    }
   ],
   "source": [
    "y_col = 'log_GFP'\n",
    "df = dfs[y_col]\n",
    "embedding_dirs = edirs[y_col]\n",
    "emb = 'X_ChR_data_5_7.pkl'\n",
    "df_test = df[~df.is_train]\n",
    "df_train = df[df.is_train]\n",
    "y_test = df_test.dropna(subset=[y_col])[y_col]\n",
    "\n",
    "\n",
    "# Embedding\n",
    "with open(embedding_dirs + emb, 'rb')  as f:\n",
    "    X, _ = pickle.load(f)\n",
    "evals, mu = evaluate(df_train, df_test, X, y_col, emb[:-4], guesses=(0.1, 10))\n",
    "_ = plt.plot(y_test, mu, 'o')\n",
    "evals"
   ]
  },
  {
   "cell_type": "code",
   "execution_count": 21,
   "metadata": {},
   "outputs": [
    {
     "name": "stdout",
     "output_type": "stream",
     "text": [
      "X_peak_data_3_4\n",
      "[ 1.01524878  9.9996485 ]\n"
     ]
    },
    {
     "data": {
      "text/html": [
       "<div>\n",
       "<style>\n",
       "    .dataframe thead tr:only-child th {\n",
       "        text-align: right;\n",
       "    }\n",
       "\n",
       "    .dataframe thead th {\n",
       "        text-align: left;\n",
       "    }\n",
       "\n",
       "    .dataframe tbody tr th {\n",
       "        vertical-align: top;\n",
       "    }\n",
       "</style>\n",
       "<table border=\"1\" class=\"dataframe\">\n",
       "  <thead>\n",
       "    <tr style=\"text-align: right;\">\n",
       "      <th></th>\n",
       "      <th>R</th>\n",
       "      <th>R2</th>\n",
       "      <th>SE</th>\n",
       "      <th>X</th>\n",
       "      <th>kendalltau</th>\n",
       "      <th>kernel</th>\n",
       "      <th>log_loss</th>\n",
       "      <th>mae</th>\n",
       "      <th>n_test</th>\n",
       "      <th>n_train</th>\n",
       "      <th>task</th>\n",
       "    </tr>\n",
       "  </thead>\n",
       "  <tbody>\n",
       "    <tr>\n",
       "      <th>0</th>\n",
       "      <td>0.508466</td>\n",
       "      <td>-0.370007</td>\n",
       "      <td>4128.389678</td>\n",
       "      <td>X_peak_data_3_4</td>\n",
       "      <td>0.337302</td>\n",
       "      <td>matern</td>\n",
       "      <td>162.051579</td>\n",
       "      <td>61.426757</td>\n",
       "      <td>19</td>\n",
       "      <td>62</td>\n",
       "      <td>peak</td>\n",
       "    </tr>\n",
       "  </tbody>\n",
       "</table>\n",
       "</div>"
      ],
      "text/plain": [
       "          R        R2           SE                X  kendalltau  kernel  \\\n",
       "0  0.508466 -0.370007  4128.389678  X_peak_data_3_4    0.337302  matern   \n",
       "\n",
       "     log_loss        mae  n_test  n_train  task  \n",
       "0  162.051579  61.426757      19       62  peak  "
      ]
     },
     "execution_count": 21,
     "metadata": {},
     "output_type": "execute_result"
    },
    {
     "data": {
      "image/png": "[encoded data removed]",
      "text/plain": [
       "<matplotlib.figure.Figure at 0x1a1f248390>"
      ]
     },
     "metadata": {},
     "output_type": "display_data"
    }
   ],
   "source": [
    "y_col = 'peak'\n",
    "df = dfs[y_col]\n",
    "e_dir = edirs[y_col]\n",
    "df_test = df[~df.is_train]\n",
    "df_train = df[df.is_train]\n",
    "emb = 'X_peak_data_3_4.pkl'\n",
    "\n",
    "\n",
    "\n",
    "# Embedding\n",
    "with open(e_dir + emb, 'rb')  as f:\n",
    "    X = pickle.load(f)\n",
    "evals, mu = evaluate(df_train, df_test, X, y_col, emb[:-4], guesses=(0.1, 10))\n",
    "y_test = df_test.dropna(subset=[y_col])[y_col]\n",
    "_ = plt.plot(y_test, mu, 'o')\n",
    "\n",
    "evals"
   ]
  },
  {
   "cell_type": "code",
   "execution_count": 23,
   "metadata": {},
   "outputs": [
    {
     "name": "stdout",
     "output_type": "stream",
     "text": [
      "X_P450_data_2_3\n",
      "[ 0.10195    0.1014413]\n"
     ]
    },
    {
     "data": {
      "text/html": [
       "<div>\n",
       "<style>\n",
       "    .dataframe thead tr:only-child th {\n",
       "        text-align: right;\n",
       "    }\n",
       "\n",
       "    .dataframe thead th {\n",
       "        text-align: left;\n",
       "    }\n",
       "\n",
       "    .dataframe tbody tr th {\n",
       "        vertical-align: top;\n",
       "    }\n",
       "</style>\n",
       "<table border=\"1\" class=\"dataframe\">\n",
       "  <thead>\n",
       "    <tr style=\"text-align: right;\">\n",
       "      <th></th>\n",
       "      <th>R</th>\n",
       "      <th>R2</th>\n",
       "      <th>SE</th>\n",
       "      <th>X</th>\n",
       "      <th>kendalltau</th>\n",
       "      <th>kernel</th>\n",
       "      <th>log_loss</th>\n",
       "      <th>mae</th>\n",
       "      <th>n_test</th>\n",
       "      <th>n_train</th>\n",
       "      <th>task</th>\n",
       "    </tr>\n",
       "  </thead>\n",
       "  <tbody>\n",
       "    <tr>\n",
       "      <th>0</th>\n",
       "      <td>0.541474</td>\n",
       "      <td>-0.218482</td>\n",
       "      <td>39.834844</td>\n",
       "      <td>X_P450_data_2_3</td>\n",
       "      <td>0.452949</td>\n",
       "      <td>matern</td>\n",
       "      <td>63.317695</td>\n",
       "      <td>5.021208</td>\n",
       "      <td>19</td>\n",
       "      <td>242</td>\n",
       "      <td>T50</td>\n",
       "    </tr>\n",
       "  </tbody>\n",
       "</table>\n",
       "</div>"
      ],
      "text/plain": [
       "          R        R2         SE                X  kendalltau  kernel  \\\n",
       "0  0.541474 -0.218482  39.834844  X_P450_data_2_3    0.452949  matern   \n",
       "\n",
       "    log_loss       mae  n_test  n_train task  \n",
       "0  63.317695  5.021208      19      242  T50  "
      ]
     },
     "execution_count": 23,
     "metadata": {},
     "output_type": "execute_result"
    },
    {
     "data": {
      "image/png": "[encoded data removed]",
      "text/plain": [
       "<matplotlib.figure.Figure at 0x1a21692b70>"
      ]
     },
     "metadata": {},
     "output_type": "display_data"
    }
   ],
   "source": [
    "y_col = 'T50'\n",
    "df = dfs[y_col]\n",
    "e_dir = edirs[y_col]\n",
    "df_test = df[~df.is_train]\n",
    "df_train = df[df.is_train]\n",
    "emb = 'X_P450_data_2_3.pkl'\n",
    "\n",
    "\n",
    "with open(e_dir + emb, 'rb')  as f:\n",
    "    X, _ = pickle.load(f)\n",
    "evals, mu = evaluate(df_train, df_test, X, y_col, emb[:-4], guesses=(0.1, 10))\n",
    "y_test = df_test.dropna(subset=[y_col])[y_col]\n",
    "_ = plt.plot(y_test, mu, 'o')\n",
    "evals"
   ]
  },
  {
   "cell_type": "code",
   "execution_count": 24,
   "metadata": {},
   "outputs": [
    {
     "name": "stdout",
     "output_type": "stream",
     "text": [
      "X_aneh_data_4_2\n",
      "[ 0.19002749  0.13107885]\n"
     ]
    },
    {
     "data": {
      "text/html": [
       "<div>\n",
       "<style>\n",
       "    .dataframe thead tr:only-child th {\n",
       "        text-align: right;\n",
       "    }\n",
       "\n",
       "    .dataframe thead th {\n",
       "        text-align: left;\n",
       "    }\n",
       "\n",
       "    .dataframe tbody tr th {\n",
       "        vertical-align: top;\n",
       "    }\n",
       "</style>\n",
       "<table border=\"1\" class=\"dataframe\">\n",
       "  <thead>\n",
       "    <tr style=\"text-align: right;\">\n",
       "      <th></th>\n",
       "      <th>R</th>\n",
       "      <th>R2</th>\n",
       "      <th>SE</th>\n",
       "      <th>X</th>\n",
       "      <th>kendalltau</th>\n",
       "      <th>kernel</th>\n",
       "      <th>log_loss</th>\n",
       "      <th>mae</th>\n",
       "      <th>n_test</th>\n",
       "      <th>n_train</th>\n",
       "      <th>task</th>\n",
       "    </tr>\n",
       "  </thead>\n",
       "  <tbody>\n",
       "    <tr>\n",
       "      <th>0</th>\n",
       "      <td>-0.0925</td>\n",
       "      <td>-0.361997</td>\n",
       "      <td>4104.25156</td>\n",
       "      <td>X_aneh_data_4_2</td>\n",
       "      <td>-0.041423</td>\n",
       "      <td>matern</td>\n",
       "      <td>169.954553</td>\n",
       "      <td>60.694635</td>\n",
       "      <td>19</td>\n",
       "      <td>62</td>\n",
       "      <td>peak</td>\n",
       "    </tr>\n",
       "  </tbody>\n",
       "</table>\n",
       "</div>"
      ],
      "text/plain": [
       "        R        R2          SE                X  kendalltau  kernel  \\\n",
       "0 -0.0925 -0.361997  4104.25156  X_aneh_data_4_2   -0.041423  matern   \n",
       "\n",
       "     log_loss        mae  n_test  n_train  task  \n",
       "0  169.954553  60.694635      19       62  peak  "
      ]
     },
     "execution_count": 24,
     "metadata": {},
     "output_type": "execute_result"
    },
    {
     "data": {
      "image/png": "[encoded data removed]",
      "text/plain": [
       "<matplotlib.figure.Figure at 0x1a2161f8d0>"
      ]
     },
     "metadata": {},
     "output_type": "display_data"
    }
   ],
   "source": [
    "y_col = 'e-value'\n",
    "emb = 'X_aneh_data_4_2.pkl'\n",
    "y_col = 'peak'\n",
    "df = dfs[y_col]\n",
    "e_dir = edirs[y_col]\n",
    "df_test = df[~df.is_train]\n",
    "df_train = df[df.is_train]\n",
    "\n",
    "with open(e_dir + emb, 'rb')  as f:\n",
    "    X = pickle.load(f)\n",
    "evals, mu = evaluate(df_train, df_test, X, y_col, emb[:-4], guesses=(10, 10))\n",
    "y_test = df_test.dropna(subset=[y_col])[y_col]\n",
    "_ = plt.plot(y_test, mu, 'o')\n",
    "evals"
   ]
  },
  {
   "cell_type": "code",
   "execution_count": null,
   "metadata": {},
   "outputs": [],
   "source": []
  }
 ],
 "metadata": {
  "kernelspec": {
   "display_name": "Python 3",
   "language": "python",
   "name": "python3"
  },
  "language_info": {
   "codemirror_mode": {
    "name": "ipython",
    "version": 3
   },
   "file_extension": ".py",
   "mimetype": "text/x-python",
   "name": "python",
   "nbconvert_exporter": "python",
   "pygments_lexer": "ipython3",
   "version": "3.7.0"
  }
 },
 "nbformat": 4,
 "nbformat_minor": 2
}
